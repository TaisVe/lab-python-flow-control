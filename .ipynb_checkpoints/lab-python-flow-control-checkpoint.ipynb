{
 "cells": [
  {
   "cell_type": "markdown",
   "id": "d3bfc191-8885-42ee-b0a0-bbab867c6f9f",
   "metadata": {
    "tags": []
   },
   "source": [
    "# Lab | Flow Control"
   ]
  },
  {
   "cell_type": "markdown",
   "id": "3851fcd1-cf98-4653-9c89-e003b7ec9400",
   "metadata": {},
   "source": [
    "## Exercise: Managing Customer Orders Optimized\n",
    "\n",
    "In the last lab, you were starting an online store that sells various products. To ensure smooth operations, you developed a program that manages customer orders and inventory.\n",
    "\n",
    "You did so without using flow control. Let's go a step further and improve this code.\n",
    "\n",
    "Follow the steps below to complete the exercise:\n",
    "\n",
    "1. Look at your code from the lab data structures, and improve repeated code with loops.\n",
    "\n",
    "2. Instead of asking the user to input the name of three products that a customer wants to order, do the following:\n",
    "    \n",
    "    a. Prompt the user to enter the name of a product that a customer wants to order.\n",
    "    \n",
    "    b. Add the product name to the \"customer_orders\" set.\n",
    "    \n",
    "    c. Ask the user if they want to add another product (yes/no).\n",
    "    \n",
    "    d. Continue the loop until the user does not want to add another product.\n",
    "\n",
    "3. Instead of updating the inventory by subtracting 1 from the quantity of each product, only do it for  the products that were ordered (those in \"customer_orders\")."
   ]
  },
  {
   "cell_type": "code",
   "execution_count": 100,
   "id": "901c827d-eea8-46b6-9902-3b3c5dd1bff4",
   "metadata": {},
   "outputs": [],
   "source": [
    "#Look at your code from the lab data structures, and improve repeated code with loops.\n",
    "products=[\"t-shirt\", \"mug\", \"hat\", \"book\", \"keychain\"]\n",
    "inventory={}"
   ]
  },
  {
   "cell_type": "code",
   "execution_count": 101,
   "id": "c56ac5d0-c65e-47cc-a877-8f69afe4d1e6",
   "metadata": {},
   "outputs": [],
   "source": [
    "initial_inventory=[0,0,0,0,0]\n",
    "inventory = dict(zip(products,initial_inventory ))"
   ]
  },
  {
   "cell_type": "code",
   "execution_count": 102,
   "id": "23b647fb-f1d9-421b-b7d3-db580175db4d",
   "metadata": {},
   "outputs": [
    {
     "name": "stdin",
     "output_type": "stream",
     "text": [
      "Enter amount of ['t-shirt', 'mug', 'hat', 'book', 'keychain'] in the inventory: 15\n",
      "Enter amount of ['t-shirt', 'mug', 'hat', 'book', 'keychain'] in the inventory: 26\n",
      "Enter amount of ['t-shirt', 'mug', 'hat', 'book', 'keychain'] in the inventory: 3\n",
      "Enter amount of ['t-shirt', 'mug', 'hat', 'book', 'keychain'] in the inventory: 10\n",
      "Enter amount of ['t-shirt', 'mug', 'hat', 'book', 'keychain'] in the inventory: 8\n"
     ]
    }
   ],
   "source": [
    "for product in inventory:\n",
    "    product_amount=int(input(f\"Enter amount of {products} in the inventory:\"))\n",
    "    inventory[product]=product_amount"
   ]
  },
  {
   "cell_type": "code",
   "execution_count": 103,
   "id": "e9905fa5-e34b-4d0a-924a-56b4217b456d",
   "metadata": {},
   "outputs": [
    {
     "name": "stdout",
     "output_type": "stream",
     "text": [
      "{'t-shirt': 15, 'mug': 26, 'hat': 3, 'book': 10, 'keychain': 8}\n"
     ]
    }
   ],
   "source": [
    "print(inventory)"
   ]
  },
  {
   "cell_type": "code",
   "execution_count": 110,
   "id": "9b328143-9abf-4956-afdf-58ad3f1abf7d",
   "metadata": {},
   "outputs": [],
   "source": [
    "#Create an empty set called customer_orders.\n",
    "customer_order=set()\n",
    "order=\" \""
   ]
  },
  {
   "cell_type": "code",
   "execution_count": 111,
   "id": "3dfdd102-0ed3-4e9c-b1f8-4e6d5e038ad9",
   "metadata": {},
   "outputs": [
    {
     "name": "stdin",
     "output_type": "stream",
     "text": [
      "What products do you want to buy?(select one at a time) t-shirt, mug, hat, book, keychain. hat\n",
      "What products do you want to buy?(select one at a time) t-shirt, mug, hat, book, keychain. book\n",
      "What products do you want to buy?(select one at a time) t-shirt, mug, hat, book, keychain. mug\n",
      "What products do you want to buy?(select one at a time) t-shirt, mug, hat, book, keychain. yes\n"
     ]
    }
   ],
   "source": [
    "#Prompt the user to enter the name of a product that a customer wants to order.\n",
    "while order != \"yes\":\n",
    "    order=input(\"What products do you want to buy?(select one at a time) t-shirt, mug, hat, book, keychain.\")\n",
    "    if order!=\"yes\":\n",
    "        customer_order.add(order)"
   ]
  },
  {
   "cell_type": "code",
   "execution_count": 112,
   "id": "20fbe84a-3e03-45fe-b0b4-7b8c1afb2c78",
   "metadata": {},
   "outputs": [
    {
     "name": "stdout",
     "output_type": "stream",
     "text": [
      "{'hat', 'book', 'mug'}\n"
     ]
    }
   ],
   "source": [
    "print(customer_order)"
   ]
  },
  {
   "cell_type": "code",
   "execution_count": 113,
   "id": "93f3a950-f124-4a95-b28b-83f75a9c3ddc",
   "metadata": {},
   "outputs": [
    {
     "name": "stdout",
     "output_type": "stream",
     "text": [
      "{'hat': 0, 'book': 0, 'mug': 0}\n"
     ]
    }
   ],
   "source": [
    "pre_customer_order=[0,0,0]\n",
    "customer_order_dir = dict(zip(customer_order,pre_customer_order))\n",
    "print(customer_order_dir)"
   ]
  },
  {
   "cell_type": "code",
   "execution_count": 114,
   "id": "fe859b68-83de-40b7-acef-d13657dc9436",
   "metadata": {},
   "outputs": [
    {
     "name": "stdin",
     "output_type": "stream",
     "text": [
      "Enter amount of {'hat', 'book', 'mug'} the customer ordered: 1\n",
      "Enter amount of {'hat', 'book', 'mug'} the customer ordered: 1\n",
      "Enter amount of {'hat', 'book', 'mug'} the customer ordered: 1\n"
     ]
    }
   ],
   "source": [
    "for amount in customer_order:\n",
    "    customer_order_amount=int(input(f\"Enter amount of {customer_order} the customer ordered:\"))\n",
    "    customer_order_dir[product]=customer_order_amount"
   ]
  },
  {
   "cell_type": "code",
   "execution_count": 115,
   "id": "b1bdcc7d-1581-42f9-8949-163697dbadb9",
   "metadata": {},
   "outputs": [
    {
     "name": "stdout",
     "output_type": "stream",
     "text": [
      "5\n"
     ]
    }
   ],
   "source": [
    "invent_quantity=len(products)\n",
    "print(invent_quantity)"
   ]
  },
  {
   "cell_type": "code",
   "execution_count": 78,
   "id": "a963f743-95a0-4910-8c94-f7d4486b4510",
   "metadata": {},
   "outputs": [
    {
     "name": "stdout",
     "output_type": "stream",
     "text": [
      "60.0\n"
     ]
    }
   ],
   "source": [
    "quant_order=len(customer_order)\n",
    "total_products=len(products)\n",
    "percentage_ordered=(quant_order/total_products)*100\n",
    "percentage_ordered = round(percentage_ordered, 2)\n",
    "print(percentage_ordered)"
   ]
  },
  {
   "cell_type": "code",
   "execution_count": 79,
   "id": "8f1d013c-e8eb-42ff-a72d-e380f2856f47",
   "metadata": {},
   "outputs": [
    {
     "name": "stdout",
     "output_type": "stream",
     "text": [
      "(3, 60.0)\n"
     ]
    }
   ],
   "source": [
    "#Store these statistics in a tuple called order_status.\n",
    "order_status=(quant_order,percentage_ordered)\n",
    "print(order_status)"
   ]
  },
  {
   "cell_type": "code",
   "execution_count": 80,
   "id": "8a7a6d42-771f-4a6b-a91c-708a17735338",
   "metadata": {},
   "outputs": [
    {
     "name": "stdout",
     "output_type": "stream",
     "text": [
      "Order Statistics:\n",
      "Total Products Ordered: 3\n",
      "Percentage of Products Ordered: 60.0%\n"
     ]
    }
   ],
   "source": [
    "#Print the order statistics using the following format:\n",
    "print(f\"Order Statistics:\\nTotal Products Ordered: {quant_order}\\nPercentage of Products Ordered: {percentage_ordered}%\")"
   ]
  },
  {
   "cell_type": "code",
   "execution_count": 81,
   "id": "91775072-90d4-4201-ad6d-92d41fb85194",
   "metadata": {},
   "outputs": [],
   "source": [
    "#Update the inventory by subtracting 1 from the quantity of each product. Modify the inventory dictionary accordingly.\n",
    "for item in customer_order:\n",
    "    inventory[item]-= 1\n"
   ]
  },
  {
   "cell_type": "code",
   "execution_count": 82,
   "id": "31780e4e-c691-4cab-8cac-3ac9da2df8b8",
   "metadata": {},
   "outputs": [
    {
     "name": "stdout",
     "output_type": "stream",
     "text": [
      "{'t-shirt': 8, 'mug': 8, 'hat': 6, 'book': 5, 'keychain': 8}\n"
     ]
    }
   ],
   "source": [
    "print(inventory)"
   ]
  },
  {
   "cell_type": "code",
   "execution_count": 83,
   "id": "21fbc8ce-4667-4a8a-9af5-fb3fbe9778ad",
   "metadata": {},
   "outputs": [
    {
     "name": "stdout",
     "output_type": "stream",
     "text": [
      "t-shirt 8\n",
      "mug 8\n",
      "hat 6\n",
      "book 5\n",
      "keychain 8\n"
     ]
    }
   ],
   "source": [
    "#Print the updated inventory, displaying the quantity of each product on separate lines.\n",
    "for keys,values in inventory.items():\n",
    "    print(keys, values)"
   ]
  },
  {
   "cell_type": "code",
   "execution_count": null,
   "id": "57ac3d57-1ed6-422e-b32d-be55af5f6cdc",
   "metadata": {},
   "outputs": [],
   "source": []
  }
 ],
 "metadata": {
  "kernelspec": {
   "display_name": "Python 3 (ipykernel)",
   "language": "python",
   "name": "python3"
  },
  "language_info": {
   "codemirror_mode": {
    "name": "ipython",
    "version": 3
   },
   "file_extension": ".py",
   "mimetype": "text/x-python",
   "name": "python",
   "nbconvert_exporter": "python",
   "pygments_lexer": "ipython3",
   "version": "3.11.7"
  }
 },
 "nbformat": 4,
 "nbformat_minor": 5
}
